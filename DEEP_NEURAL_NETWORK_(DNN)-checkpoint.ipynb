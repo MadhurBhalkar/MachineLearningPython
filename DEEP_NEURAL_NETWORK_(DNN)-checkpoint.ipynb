{
 "cells": [
  {
   "cell_type": "code",
   "execution_count": 1,
   "metadata": {},
   "outputs": [
    {
     "name": "stderr",
     "output_type": "stream",
     "text": [
      "Using TensorFlow backend.\n"
     ]
    }
   ],
   "source": [
    "from keras.layers import  Dropout, Dense\n",
    "from keras.models import Sequential\n",
    "from sklearn.feature_extraction.text import TfidfVectorizer\n",
    "import numpy as np\n",
    "from sklearn import metrics"
   ]
  },
  {
   "cell_type": "code",
   "execution_count": 2,
   "metadata": {},
   "outputs": [],
   "source": [
    "def TFIDF(X_train, X_test,MAX_NB_WORDS=75000):\n",
    "    vectorizer_x = TfidfVectorizer(max_features=MAX_NB_WORDS)\n",
    "    X_train = vectorizer_x.fit_transform(X_train).toarray()\n",
    "    X_test = vectorizer_x.transform(X_test).toarray()\n",
    "    print(\"tf-idf with\",str(np.array(X_train).shape[1]),\"features\")\n",
    "    return (X_train,X_test)\n"
   ]
  },
  {
   "cell_type": "code",
   "execution_count": 17,
   "metadata": {},
   "outputs": [],
   "source": [
    "def Build_Model_DNN_Text(shape, nClasses, dropout=0.01):\n",
    "    \"\"\"\n",
    "    buildModel_DNN_Tex(shape, nClasses,dropout)\n",
    "    Build Deep neural networks Model for text classification\n",
    "    Shape is input feature space\n",
    "    nClasses is number of classes\n",
    "    \"\"\"\n",
    "    model = Sequential()\n",
    "    node = 512 # number of nodes\n",
    "    nLayers = 2 # number of  hidden layer\n",
    "\n",
    "    model.add(Dense(node,input_dim=shape,activation='relu'))\n",
    "    model.add(Dropout(dropout))\n",
    "    for i in range(0,nLayers):\n",
    "        model.add(Dense(node,input_dim=node,activation='relu'))\n",
    "        model.add(Dropout(dropout))\n",
    "    model.add(Dense(nClasses, activation='softmax'))\n",
    "\n",
    "    model.compile(loss='sparse_categorical_crossentropy',\n",
    "                  optimizer='adam',\n",
    "                  metrics=['accuracy'])\n",
    "\n",
    "    return model"
   ]
  },
  {
   "cell_type": "code",
   "execution_count": 4,
   "metadata": {},
   "outputs": [],
   "source": [
    "import pandas as pd\n",
    "import numpy as np\n",
    "df=pd.read_csv(\"C:/Users/Madhur Bhalkar/Desktop/NEWWW/FINALSUBJECT.csv\")"
   ]
  },
  {
   "cell_type": "code",
   "execution_count": 5,
   "metadata": {},
   "outputs": [],
   "source": []
  },
  {
   "cell_type": "code",
   "execution_count": 6,
   "metadata": {},
   "outputs": [
    {
     "name": "stderr",
     "output_type": "stream",
     "text": [
      "100%|████████████████████████████████████████████████████████████████████████████| 6023/6023 [00:01<00:00, 4723.51it/s]\n"
     ]
    },
    {
     "name": "stdout",
     "output_type": "stream",
     "text": [
      "Completed\n"
     ]
    },
    {
     "ename": "NameError",
     "evalue": "name 'text_content' is not defined",
     "output_type": "error",
     "traceback": [
      "\u001b[1;31m---------------------------------------------------------------------------\u001b[0m",
      "\u001b[1;31mNameError\u001b[0m                                 Traceback (most recent call last)",
      "\u001b[1;32m<ipython-input-6-2ddda11399c3>\u001b[0m in \u001b[0;36m<module>\u001b[1;34m\u001b[0m\n\u001b[0;32m     10\u001b[0m \u001b[1;33m\u001b[0m\u001b[0m\n\u001b[0;32m     11\u001b[0m \u001b[0mprint\u001b[0m\u001b[1;33m(\u001b[0m\u001b[1;34m'Completed'\u001b[0m\u001b[1;33m)\u001b[0m\u001b[1;33m\u001b[0m\u001b[1;33m\u001b[0m\u001b[0m\n\u001b[1;32m---> 12\u001b[1;33m \u001b[0mprint\u001b[0m\u001b[1;33m(\u001b[0m\u001b[0mlen\u001b[0m\u001b[1;33m(\u001b[0m\u001b[0mtext_content\u001b[0m\u001b[1;33m)\u001b[0m\u001b[1;33m,\u001b[0m\u001b[0mlen\u001b[0m\u001b[1;33m(\u001b[0m\u001b[0mtext_labels\u001b[0m\u001b[1;33m)\u001b[0m\u001b[1;33m)\u001b[0m\u001b[1;33m\u001b[0m\u001b[1;33m\u001b[0m\u001b[0m\n\u001b[0m",
      "\u001b[1;31mNameError\u001b[0m: name 'text_content' is not defined"
     ]
    }
   ],
   "source": [
    "# read csv\n",
    "from tqdm import tqdm\n",
    "csv_data = pd.read_csv(\"C:/Users/Madhur Bhalkar/Desktop/NEWWW/FINALSUBJECT.csv\")\n",
    "csv_data.head(n=5)\n",
    "X=[]\n",
    "text_labels=[]\n",
    "for index,row in tqdm(csv_data.iterrows(),total=csv_data.shape[0]):\n",
    "    X.append(row['Content']+str(row['subjectivity']))\n",
    "    text_labels.append(row['Privacy'])\n",
    "    \n",
    "print('Completed')\n",
    "print(len(text_content),len(text_labels))"
   ]
  },
  {
   "cell_type": "code",
   "execution_count": 7,
   "metadata": {},
   "outputs": [],
   "source": [
    "labels = csv_data['Privacy'].astype('category').cat.categories.tolist()\n",
    "Label_mapping = {'Privacy' : {k: v for k,v in zip(labels,list(range(1,len(labels)+1)))}}\n",
    "#print(Label_mapping)\n",
    "\n",
    "#Replacing the Strings with Numbers to feed as a input to our model\n",
    "csv_data.replace(Label_mapping, inplace=True)\n",
    "Y=csv_data['Privacy']\n"
   ]
  },
  {
   "cell_type": "code",
   "execution_count": 8,
   "metadata": {},
   "outputs": [],
   "source": []
  },
  {
   "cell_type": "code",
   "execution_count": 9,
   "metadata": {},
   "outputs": [],
   "source": []
  },
  {
   "cell_type": "code",
   "execution_count": 10,
   "metadata": {},
   "outputs": [],
   "source": [
    "X_train, X_test, Y_train, Y_test = model_selection.train_test_split (X, Y, test_size=0.2, random_state=0)\n",
    "from sklearn import model_selection\n"
   ]
  },
  {
   "cell_type": "code",
   "execution_count": 11,
   "metadata": {},
   "outputs": [
    {
     "name": "stdout",
     "output_type": "stream",
     "text": [
      "tf-idf with 14195 features\n"
     ]
    }
   ],
   "source": [
    "X_train_tfidf,X_test_tfidf = TFIDF(X_train,X_test)\n"
   ]
  },
  {
   "cell_type": "code",
   "execution_count": 18,
   "metadata": {},
   "outputs": [
    {
     "name": "stdout",
     "output_type": "stream",
     "text": [
      "_________________________________________________________________\n",
      "Layer (type)                 Output Shape              Param #   \n",
      "=================================================================\n",
      "dense_13 (Dense)             (None, 512)               7268352   \n",
      "_________________________________________________________________\n",
      "dropout_11 (Dropout)         (None, 512)               0         \n",
      "_________________________________________________________________\n",
      "dense_14 (Dense)             (None, 512)               262656    \n",
      "_________________________________________________________________\n",
      "dropout_12 (Dropout)         (None, 512)               0         \n",
      "_________________________________________________________________\n",
      "dense_15 (Dense)             (None, 512)               262656    \n",
      "_________________________________________________________________\n",
      "dropout_13 (Dropout)         (None, 512)               0         \n",
      "_________________________________________________________________\n",
      "dense_16 (Dense)             (None, 3)                 1539      \n",
      "=================================================================\n",
      "Total params: 7,795,203\n",
      "Trainable params: 7,795,203\n",
      "Non-trainable params: 0\n",
      "_________________________________________________________________\n"
     ]
    }
   ],
   "source": [
    "model_DNN = Build_Model_DNN_Text(X_train_tfidf.shape[1], 3)\n",
    "model_DNN.summary()\n",
    "exit(1)\n"
   ]
  },
  {
   "cell_type": "code",
   "execution_count": 19,
   "metadata": {},
   "outputs": [
    {
     "name": "stdout",
     "output_type": "stream",
     "text": [
      "Train on 4818 samples, validate on 1205 samples\n",
      "Epoch 1/100\n",
      " - 10s - loss: 0.6506 - acc: 0.7897 - val_loss: 0.4662 - val_acc: 0.8216\n",
      "Epoch 2/100\n",
      " - 8s - loss: 0.3672 - acc: 0.8120 - val_loss: 0.4943 - val_acc: 0.8216\n",
      "Epoch 3/100\n",
      " - 8s - loss: 0.2193 - acc: 0.8454 - val_loss: 0.6816 - val_acc: 0.8124\n",
      "Epoch 4/100\n",
      " - 8s - loss: 0.0823 - acc: 0.9942 - val_loss: 1.0900 - val_acc: 0.7834\n",
      "Epoch 5/100\n",
      " - 8s - loss: 0.0064 - acc: 0.9988 - val_loss: 1.5869 - val_acc: 0.7701\n",
      "Epoch 6/100\n",
      " - 8s - loss: 3.4768e-04 - acc: 1.0000 - val_loss: 1.6867 - val_acc: 0.7485\n",
      "Epoch 7/100\n",
      " - 8s - loss: 1.3985e-04 - acc: 1.0000 - val_loss: 1.7300 - val_acc: 0.7519\n",
      "Epoch 8/100\n",
      " - 8s - loss: 9.1054e-05 - acc: 1.0000 - val_loss: 1.7551 - val_acc: 0.7527\n",
      "Epoch 9/100\n",
      " - 8s - loss: 6.9440e-05 - acc: 1.0000 - val_loss: 1.7754 - val_acc: 0.7519\n",
      "Epoch 10/100\n",
      " - 8s - loss: 5.7544e-05 - acc: 1.0000 - val_loss: 1.7943 - val_acc: 0.7527\n",
      "Epoch 11/100\n",
      " - 8s - loss: 4.5481e-05 - acc: 1.0000 - val_loss: 1.8122 - val_acc: 0.7510\n",
      "Epoch 12/100\n",
      " - 8s - loss: 3.7085e-05 - acc: 1.0000 - val_loss: 1.8270 - val_acc: 0.7510\n",
      "Epoch 13/100\n",
      " - 8s - loss: 3.0825e-05 - acc: 1.0000 - val_loss: 1.8408 - val_acc: 0.7519\n",
      "Epoch 14/100\n",
      " - 8s - loss: 2.8419e-05 - acc: 1.0000 - val_loss: 1.8550 - val_acc: 0.7510\n",
      "Epoch 15/100\n",
      " - 8s - loss: 2.3174e-05 - acc: 1.0000 - val_loss: 1.8671 - val_acc: 0.7510\n",
      "Epoch 16/100\n",
      " - 8s - loss: 2.0457e-05 - acc: 1.0000 - val_loss: 1.8783 - val_acc: 0.7510\n",
      "Epoch 17/100\n",
      " - 8s - loss: 1.7866e-05 - acc: 1.0000 - val_loss: 1.8891 - val_acc: 0.7510\n",
      "Epoch 18/100\n",
      " - 8s - loss: 1.6264e-05 - acc: 1.0000 - val_loss: 1.8984 - val_acc: 0.7519\n",
      "Epoch 19/100\n",
      " - 8s - loss: 1.4674e-05 - acc: 1.0000 - val_loss: 1.9091 - val_acc: 0.7519\n",
      "Epoch 20/100\n",
      " - 8s - loss: 1.3061e-05 - acc: 1.0000 - val_loss: 1.9178 - val_acc: 0.7519\n",
      "Epoch 21/100\n",
      " - 8s - loss: 1.1613e-05 - acc: 1.0000 - val_loss: 1.9257 - val_acc: 0.7519\n",
      "Epoch 22/100\n",
      " - 8s - loss: 1.0558e-05 - acc: 1.0000 - val_loss: 1.9336 - val_acc: 0.7519\n",
      "Epoch 23/100\n",
      " - 8s - loss: 9.8278e-06 - acc: 1.0000 - val_loss: 1.9414 - val_acc: 0.7519\n",
      "Epoch 24/100\n",
      " - 8s - loss: 9.0429e-06 - acc: 1.0000 - val_loss: 1.9496 - val_acc: 0.7527\n",
      "Epoch 25/100\n",
      " - 8s - loss: 8.0935e-06 - acc: 1.0000 - val_loss: 1.9569 - val_acc: 0.7527\n",
      "Epoch 26/100\n",
      " - 8s - loss: 7.4904e-06 - acc: 1.0000 - val_loss: 1.9635 - val_acc: 0.7527\n",
      "Epoch 27/100\n",
      " - 8s - loss: 6.9215e-06 - acc: 1.0000 - val_loss: 1.9706 - val_acc: 0.7527\n",
      "Epoch 28/100\n",
      " - 8s - loss: 6.5032e-06 - acc: 1.0000 - val_loss: 1.9768 - val_acc: 0.7527\n",
      "Epoch 29/100\n",
      " - 9s - loss: 6.1521e-06 - acc: 1.0000 - val_loss: 1.9828 - val_acc: 0.7527\n",
      "Epoch 30/100\n",
      " - 8s - loss: 5.6696e-06 - acc: 1.0000 - val_loss: 1.9887 - val_acc: 0.7519\n",
      "Epoch 31/100\n",
      " - 8s - loss: 5.4281e-06 - acc: 1.0000 - val_loss: 1.9945 - val_acc: 0.7519\n",
      "Epoch 32/100\n",
      " - 8s - loss: 4.7741e-06 - acc: 1.0000 - val_loss: 2.0002 - val_acc: 0.7519\n",
      "Epoch 33/100\n",
      " - 8s - loss: 4.6743e-06 - acc: 1.0000 - val_loss: 2.0058 - val_acc: 0.7519\n",
      "Epoch 34/100\n",
      " - 8s - loss: 4.1806e-06 - acc: 1.0000 - val_loss: 2.0123 - val_acc: 0.7519\n",
      "Epoch 35/100\n",
      " - 8s - loss: 4.1363e-06 - acc: 1.0000 - val_loss: 2.0199 - val_acc: 0.7519\n",
      "Epoch 36/100\n",
      " - 8s - loss: 3.9675e-06 - acc: 1.0000 - val_loss: 2.0271 - val_acc: 0.7519\n",
      "Epoch 37/100\n",
      " - 8s - loss: 3.6191e-06 - acc: 1.0000 - val_loss: 2.0331 - val_acc: 0.7519\n",
      "Epoch 38/100\n",
      " - 9s - loss: 3.2627e-06 - acc: 1.0000 - val_loss: 2.0394 - val_acc: 0.7519\n",
      "Epoch 39/100\n",
      " - 9s - loss: 3.3052e-06 - acc: 1.0000 - val_loss: 2.0467 - val_acc: 0.7519\n",
      "Epoch 40/100\n",
      " - 9s - loss: 2.9269e-06 - acc: 1.0000 - val_loss: 2.0543 - val_acc: 0.7519\n",
      "Epoch 41/100\n",
      " - 8s - loss: 2.6950e-06 - acc: 1.0000 - val_loss: 2.0609 - val_acc: 0.7519\n",
      "Epoch 42/100\n",
      " - 8s - loss: 2.5607e-06 - acc: 1.0000 - val_loss: 2.0678 - val_acc: 0.7519\n",
      "Epoch 43/100\n",
      " - 9s - loss: 2.3303e-06 - acc: 1.0000 - val_loss: 2.0755 - val_acc: 0.7494\n",
      "Epoch 44/100\n",
      " - 8s - loss: 2.1710e-06 - acc: 1.0000 - val_loss: 2.0823 - val_acc: 0.7494\n",
      "Epoch 45/100\n",
      " - 8s - loss: 1.9842e-06 - acc: 1.0000 - val_loss: 2.0898 - val_acc: 0.7477\n",
      "Epoch 46/100\n",
      " - 8s - loss: 1.8705e-06 - acc: 1.0000 - val_loss: 2.0978 - val_acc: 0.7477\n",
      "Epoch 47/100\n",
      " - 8s - loss: 1.7846e-06 - acc: 1.0000 - val_loss: 2.1051 - val_acc: 0.7477\n",
      "Epoch 48/100\n",
      " - 8s - loss: 1.6615e-06 - acc: 1.0000 - val_loss: 2.1131 - val_acc: 0.7477\n",
      "Epoch 49/100\n",
      " - 8s - loss: 1.5173e-06 - acc: 1.0000 - val_loss: 2.1202 - val_acc: 0.7477\n",
      "Epoch 50/100\n",
      " - 8s - loss: 1.4676e-06 - acc: 1.0000 - val_loss: 2.1272 - val_acc: 0.7477\n",
      "Epoch 51/100\n",
      " - 8s - loss: 1.3176e-06 - acc: 1.0000 - val_loss: 2.1342 - val_acc: 0.7477\n",
      "Epoch 52/100\n",
      " - 8s - loss: 1.2667e-06 - acc: 1.0000 - val_loss: 2.1407 - val_acc: 0.7477\n",
      "Epoch 53/100\n",
      " - 8s - loss: 1.1752e-06 - acc: 1.0000 - val_loss: 2.1483 - val_acc: 0.7469\n",
      "Epoch 54/100\n",
      " - 8s - loss: 1.1421e-06 - acc: 1.0000 - val_loss: 2.1542 - val_acc: 0.7469\n",
      "Epoch 55/100\n",
      " - 8s - loss: 1.0471e-06 - acc: 1.0000 - val_loss: 2.1599 - val_acc: 0.7477\n",
      "Epoch 56/100\n",
      " - 8s - loss: 1.0388e-06 - acc: 1.0000 - val_loss: 2.1661 - val_acc: 0.7477\n",
      "Epoch 57/100\n",
      " - 8s - loss: 9.6401e-07 - acc: 1.0000 - val_loss: 2.1707 - val_acc: 0.7485\n",
      "Epoch 58/100\n",
      " - 8s - loss: 9.1935e-07 - acc: 1.0000 - val_loss: 2.1775 - val_acc: 0.7477\n",
      "Epoch 59/100\n",
      " - 8s - loss: 9.0413e-07 - acc: 1.0000 - val_loss: 2.1835 - val_acc: 0.7469\n",
      "Epoch 60/100\n",
      " - 8s - loss: 8.4285e-07 - acc: 1.0000 - val_loss: 2.1891 - val_acc: 0.7469\n",
      "Epoch 61/100\n",
      " - 8s - loss: 8.5519e-07 - acc: 1.0000 - val_loss: 2.1958 - val_acc: 0.7452\n",
      "Epoch 62/100\n",
      " - 8s - loss: 7.9205e-07 - acc: 1.0000 - val_loss: 2.1999 - val_acc: 0.7461\n",
      "Epoch 63/100\n",
      " - 8s - loss: 7.3059e-07 - acc: 1.0000 - val_loss: 2.2049 - val_acc: 0.7461\n",
      "Epoch 64/100\n",
      " - 8s - loss: 7.0503e-07 - acc: 1.0000 - val_loss: 2.2111 - val_acc: 0.7461\n",
      "Epoch 65/100\n",
      " - 8s - loss: 7.3052e-07 - acc: 1.0000 - val_loss: 2.2150 - val_acc: 0.7461\n",
      "Epoch 66/100\n",
      " - 8s - loss: 6.7893e-07 - acc: 1.0000 - val_loss: 2.2197 - val_acc: 0.7461\n",
      "Epoch 67/100\n",
      " - 8s - loss: 6.7054e-07 - acc: 1.0000 - val_loss: 2.2246 - val_acc: 0.7461\n",
      "Epoch 68/100\n",
      " - 8s - loss: 6.5486e-07 - acc: 1.0000 - val_loss: 2.2296 - val_acc: 0.7461\n",
      "Epoch 69/100\n",
      " - 8s - loss: 6.3981e-07 - acc: 1.0000 - val_loss: 2.2332 - val_acc: 0.7461\n",
      "Epoch 70/100\n",
      " - 7s - loss: 6.0258e-07 - acc: 1.0000 - val_loss: 2.2375 - val_acc: 0.7461\n",
      "Epoch 71/100\n",
      " - 8s - loss: 5.9463e-07 - acc: 1.0000 - val_loss: 2.2415 - val_acc: 0.7461\n",
      "Epoch 72/100\n",
      " - 8s - loss: 5.8273e-07 - acc: 1.0000 - val_loss: 2.2450 - val_acc: 0.7461\n",
      "Epoch 73/100\n",
      " - 8s - loss: 5.8590e-07 - acc: 1.0000 - val_loss: 2.2480 - val_acc: 0.7461\n",
      "Epoch 74/100\n",
      " - 8s - loss: 6.0356e-07 - acc: 1.0000 - val_loss: 2.2537 - val_acc: 0.7461\n",
      "Epoch 75/100\n",
      " - 8s - loss: 5.3424e-07 - acc: 1.0000 - val_loss: 2.2566 - val_acc: 0.7461\n",
      "Epoch 76/100\n",
      " - 8s - loss: 5.2956e-07 - acc: 1.0000 - val_loss: 2.2604 - val_acc: 0.7461\n",
      "Epoch 77/100\n",
      " - 8s - loss: 5.1514e-07 - acc: 1.0000 - val_loss: 2.2638 - val_acc: 0.7461\n",
      "Epoch 78/100\n",
      " - 8s - loss: 5.3268e-07 - acc: 1.0000 - val_loss: 2.2674 - val_acc: 0.7469\n",
      "Epoch 79/100\n",
      " - 8s - loss: 4.8584e-07 - acc: 1.0000 - val_loss: 2.2713 - val_acc: 0.7461\n",
      "Epoch 80/100\n",
      " - 8s - loss: 4.9455e-07 - acc: 1.0000 - val_loss: 2.2730 - val_acc: 0.7461\n",
      "Epoch 81/100\n",
      " - 8s - loss: 4.9829e-07 - acc: 1.0000 - val_loss: 2.2769 - val_acc: 0.7461\n",
      "Epoch 82/100\n",
      " - 8s - loss: 4.9062e-07 - acc: 1.0000 - val_loss: 2.2808 - val_acc: 0.7461\n",
      "Epoch 83/100\n",
      " - 8s - loss: 4.6667e-07 - acc: 1.0000 - val_loss: 2.2841 - val_acc: 0.7461\n",
      "Epoch 84/100\n",
      " - 8s - loss: 4.4942e-07 - acc: 1.0000 - val_loss: 2.2878 - val_acc: 0.7461\n",
      "Epoch 85/100\n",
      " - 8s - loss: 4.4178e-07 - acc: 1.0000 - val_loss: 2.2900 - val_acc: 0.7461\n",
      "Epoch 86/100\n",
      " - 8s - loss: 4.4697e-07 - acc: 1.0000 - val_loss: 2.2923 - val_acc: 0.7461\n",
      "Epoch 87/100\n",
      " - 8s - loss: 4.3764e-07 - acc: 1.0000 - val_loss: 2.2951 - val_acc: 0.7461\n",
      "Epoch 88/100\n",
      " - 8s - loss: 4.5105e-07 - acc: 1.0000 - val_loss: 2.2983 - val_acc: 0.7461\n",
      "Epoch 89/100\n",
      " - 8s - loss: 4.2216e-07 - acc: 1.0000 - val_loss: 2.3010 - val_acc: 0.7461\n",
      "Epoch 90/100\n",
      " - 8s - loss: 4.2970e-07 - acc: 1.0000 - val_loss: 2.3034 - val_acc: 0.7461\n",
      "Epoch 91/100\n",
      " - 8s - loss: 4.0474e-07 - acc: 1.0000 - val_loss: 2.3054 - val_acc: 0.7461\n",
      "Epoch 92/100\n",
      " - 8s - loss: 4.0343e-07 - acc: 1.0000 - val_loss: 2.3076 - val_acc: 0.7461\n"
     ]
    },
    {
     "name": "stdout",
     "output_type": "stream",
     "text": [
      "Epoch 93/100\n",
      " - 8s - loss: 4.1587e-07 - acc: 1.0000 - val_loss: 2.3101 - val_acc: 0.7461\n",
      "Epoch 94/100\n",
      " - 8s - loss: 4.2869e-07 - acc: 1.0000 - val_loss: 2.3138 - val_acc: 0.7461\n",
      "Epoch 95/100\n",
      " - 8s - loss: 4.0800e-07 - acc: 1.0000 - val_loss: 2.3153 - val_acc: 0.7461\n",
      "Epoch 96/100\n",
      " - 8s - loss: 3.9526e-07 - acc: 1.0000 - val_loss: 2.3187 - val_acc: 0.7461\n",
      "Epoch 97/100\n",
      " - 8s - loss: 4.0751e-07 - acc: 1.0000 - val_loss: 2.3203 - val_acc: 0.7461\n",
      "Epoch 98/100\n",
      " - 8s - loss: 3.8638e-07 - acc: 1.0000 - val_loss: 2.3232 - val_acc: 0.7461\n",
      "Epoch 99/100\n",
      " - 8s - loss: 4.0909e-07 - acc: 1.0000 - val_loss: 2.3252 - val_acc: 0.7461\n",
      "Epoch 100/100\n",
      " - 8s - loss: 3.8200e-07 - acc: 1.0000 - val_loss: 2.3275 - val_acc: 0.7461\n",
      "              precision    recall  f1-score   support\n",
      "\n",
      "           1       0.84      0.85      0.85       990\n",
      "           2       0.28      0.27      0.27       215\n",
      "\n",
      "    accuracy                           0.75      1205\n",
      "   macro avg       0.56      0.56      0.56      1205\n",
      "weighted avg       0.74      0.75      0.74      1205\n",
      "\n"
     ]
    }
   ],
   "source": [
    "model_DNN.fit(X_train_tfidf, Y_train,\n",
    "                              validation_data=(X_test_tfidf, Y_test),\n",
    "                              epochs=100,\n",
    "                              batch_size=200,\n",
    "                              verbose=2)\n",
    "\n",
    "predicted = model_DNN.predict_classes(X_test_tfidf)\n",
    "\n",
    "print(metrics.classification_report(Y_test, predicted))"
   ]
  },
  {
   "cell_type": "code",
   "execution_count": 16,
   "metadata": {},
   "outputs": [
    {
     "name": "stdout",
     "output_type": "stream",
     "text": [
      "Train on 4818 samples, validate on 1205 samples\n",
      "Epoch 1/50\n",
      " - 11s - loss: 0.2365 - acc: 0.8900 - val_loss: 0.8547 - val_acc: 0.7369\n",
      "Epoch 2/50\n",
      " - 11s - loss: 0.0739 - acc: 0.9780 - val_loss: 1.2120 - val_acc: 0.7012\n",
      "Epoch 3/50\n",
      " - 10s - loss: 0.0242 - acc: 0.9934 - val_loss: 1.8467 - val_acc: 0.7203\n",
      "Epoch 4/50\n",
      " - 11s - loss: 0.0112 - acc: 0.9965 - val_loss: 2.0086 - val_acc: 0.6730\n",
      "Epoch 5/50\n",
      " - 11s - loss: 0.0094 - acc: 0.9975 - val_loss: 1.9737 - val_acc: 0.7129\n",
      "Epoch 6/50\n",
      " - 11s - loss: 0.0057 - acc: 0.9990 - val_loss: 2.2452 - val_acc: 0.6788\n",
      "Epoch 7/50\n",
      " - 11s - loss: 0.0048 - acc: 0.9992 - val_loss: 2.2869 - val_acc: 0.6988\n",
      "Epoch 8/50\n",
      " - 11s - loss: 0.0042 - acc: 0.9996 - val_loss: 2.6152 - val_acc: 0.6697\n",
      "Epoch 9/50\n",
      " - 11s - loss: 0.0037 - acc: 0.9998 - val_loss: 2.7901 - val_acc: 0.6705\n",
      "Epoch 10/50\n",
      " - 11s - loss: 0.0038 - acc: 0.9996 - val_loss: 2.3855 - val_acc: 0.7593\n",
      "Epoch 11/50\n",
      " - 11s - loss: 0.0041 - acc: 0.9994 - val_loss: 3.2547 - val_acc: 0.6481\n",
      "Epoch 12/50\n",
      " - 11s - loss: 0.0045 - acc: 0.9994 - val_loss: 3.7413 - val_acc: 0.6108\n",
      "Epoch 13/50\n",
      " - 11s - loss: 0.0052 - acc: 0.9992 - val_loss: 3.0014 - val_acc: 0.6448\n",
      "Epoch 14/50\n",
      " - 11s - loss: 0.0067 - acc: 0.9985 - val_loss: 2.5577 - val_acc: 0.6523\n",
      "Epoch 15/50\n",
      " - 11s - loss: 0.0035 - acc: 0.9998 - val_loss: 2.4485 - val_acc: 0.7104\n",
      "Epoch 16/50\n",
      " - 11s - loss: 0.0035 - acc: 0.9998 - val_loss: 2.9407 - val_acc: 0.6755\n",
      "Epoch 17/50\n",
      " - 11s - loss: 0.0040 - acc: 0.9994 - val_loss: 2.8492 - val_acc: 0.6863\n",
      "Epoch 18/50\n",
      " - 11s - loss: 0.0060 - acc: 0.9994 - val_loss: 2.1626 - val_acc: 0.7461\n",
      "Epoch 19/50\n",
      " - 11s - loss: 0.0040 - acc: 0.9994 - val_loss: 2.8489 - val_acc: 0.6523\n",
      "Epoch 20/50\n",
      " - 11s - loss: 0.0035 - acc: 0.9998 - val_loss: 2.6646 - val_acc: 0.7037\n",
      "Epoch 21/50\n",
      " - 11s - loss: 0.0034 - acc: 0.9998 - val_loss: 2.6427 - val_acc: 0.7154\n",
      "Epoch 22/50\n",
      " - 11s - loss: 0.0037 - acc: 0.9996 - val_loss: 3.5012 - val_acc: 0.6440\n",
      "Epoch 23/50\n",
      " - 11s - loss: 0.0036 - acc: 0.9998 - val_loss: 3.0349 - val_acc: 0.7004\n",
      "Epoch 24/50\n",
      " - 11s - loss: 0.0041 - acc: 0.9994 - val_loss: 3.6644 - val_acc: 0.6432\n",
      "Epoch 25/50\n",
      " - 11s - loss: 0.0049 - acc: 0.9994 - val_loss: 4.2817 - val_acc: 0.5892\n",
      "Epoch 26/50\n"
     ]
    },
    {
     "ename": "KeyboardInterrupt",
     "evalue": "",
     "output_type": "error",
     "traceback": [
      "\u001b[1;31m---------------------------------------------------------------------------\u001b[0m",
      "\u001b[1;31mKeyboardInterrupt\u001b[0m                         Traceback (most recent call last)",
      "\u001b[1;32m<ipython-input-16-132593ff0045>\u001b[0m in \u001b[0;36m<module>\u001b[1;34m\u001b[0m\n\u001b[0;32m      3\u001b[0m                               \u001b[0mepochs\u001b[0m\u001b[1;33m=\u001b[0m\u001b[1;36m50\u001b[0m\u001b[1;33m,\u001b[0m\u001b[1;33m\u001b[0m\u001b[1;33m\u001b[0m\u001b[0m\n\u001b[0;32m      4\u001b[0m                               \u001b[0mbatch_size\u001b[0m\u001b[1;33m=\u001b[0m\u001b[1;36m128\u001b[0m\u001b[1;33m,\u001b[0m\u001b[1;33m\u001b[0m\u001b[1;33m\u001b[0m\u001b[0m\n\u001b[1;32m----> 5\u001b[1;33m                               verbose=2)\n\u001b[0m\u001b[0;32m      6\u001b[0m \u001b[1;33m\u001b[0m\u001b[0m\n\u001b[0;32m      7\u001b[0m \u001b[0mpredicted\u001b[0m \u001b[1;33m=\u001b[0m \u001b[0mmodel_DNN\u001b[0m\u001b[1;33m.\u001b[0m\u001b[0mpredict_classes\u001b[0m\u001b[1;33m(\u001b[0m\u001b[0mX_test_tfidf\u001b[0m\u001b[1;33m)\u001b[0m\u001b[1;33m\u001b[0m\u001b[1;33m\u001b[0m\u001b[0m\n",
      "\u001b[1;32mc:\\users\\madhur bhalkar\\appdata\\local\\programs\\python\\python37\\lib\\site-packages\\keras\\engine\\training.py\u001b[0m in \u001b[0;36mfit\u001b[1;34m(self, x, y, batch_size, epochs, verbose, callbacks, validation_split, validation_data, shuffle, class_weight, sample_weight, initial_epoch, steps_per_epoch, validation_steps, **kwargs)\u001b[0m\n\u001b[0;32m   1037\u001b[0m                                         \u001b[0minitial_epoch\u001b[0m\u001b[1;33m=\u001b[0m\u001b[0minitial_epoch\u001b[0m\u001b[1;33m,\u001b[0m\u001b[1;33m\u001b[0m\u001b[1;33m\u001b[0m\u001b[0m\n\u001b[0;32m   1038\u001b[0m                                         \u001b[0msteps_per_epoch\u001b[0m\u001b[1;33m=\u001b[0m\u001b[0msteps_per_epoch\u001b[0m\u001b[1;33m,\u001b[0m\u001b[1;33m\u001b[0m\u001b[1;33m\u001b[0m\u001b[0m\n\u001b[1;32m-> 1039\u001b[1;33m                                         validation_steps=validation_steps)\n\u001b[0m\u001b[0;32m   1040\u001b[0m \u001b[1;33m\u001b[0m\u001b[0m\n\u001b[0;32m   1041\u001b[0m     def evaluate(self, x=None, y=None,\n",
      "\u001b[1;32mc:\\users\\madhur bhalkar\\appdata\\local\\programs\\python\\python37\\lib\\site-packages\\keras\\engine\\training_arrays.py\u001b[0m in \u001b[0;36mfit_loop\u001b[1;34m(model, f, ins, out_labels, batch_size, epochs, verbose, callbacks, val_f, val_ins, shuffle, callback_metrics, initial_epoch, steps_per_epoch, validation_steps)\u001b[0m\n\u001b[0;32m    197\u001b[0m                     \u001b[0mins_batch\u001b[0m\u001b[1;33m[\u001b[0m\u001b[0mi\u001b[0m\u001b[1;33m]\u001b[0m \u001b[1;33m=\u001b[0m \u001b[0mins_batch\u001b[0m\u001b[1;33m[\u001b[0m\u001b[0mi\u001b[0m\u001b[1;33m]\u001b[0m\u001b[1;33m.\u001b[0m\u001b[0mtoarray\u001b[0m\u001b[1;33m(\u001b[0m\u001b[1;33m)\u001b[0m\u001b[1;33m\u001b[0m\u001b[1;33m\u001b[0m\u001b[0m\n\u001b[0;32m    198\u001b[0m \u001b[1;33m\u001b[0m\u001b[0m\n\u001b[1;32m--> 199\u001b[1;33m                 \u001b[0mouts\u001b[0m \u001b[1;33m=\u001b[0m \u001b[0mf\u001b[0m\u001b[1;33m(\u001b[0m\u001b[0mins_batch\u001b[0m\u001b[1;33m)\u001b[0m\u001b[1;33m\u001b[0m\u001b[1;33m\u001b[0m\u001b[0m\n\u001b[0m\u001b[0;32m    200\u001b[0m                 \u001b[0mouts\u001b[0m \u001b[1;33m=\u001b[0m \u001b[0mto_list\u001b[0m\u001b[1;33m(\u001b[0m\u001b[0mouts\u001b[0m\u001b[1;33m)\u001b[0m\u001b[1;33m\u001b[0m\u001b[1;33m\u001b[0m\u001b[0m\n\u001b[0;32m    201\u001b[0m                 \u001b[1;32mfor\u001b[0m \u001b[0ml\u001b[0m\u001b[1;33m,\u001b[0m \u001b[0mo\u001b[0m \u001b[1;32min\u001b[0m \u001b[0mzip\u001b[0m\u001b[1;33m(\u001b[0m\u001b[0mout_labels\u001b[0m\u001b[1;33m,\u001b[0m \u001b[0mouts\u001b[0m\u001b[1;33m)\u001b[0m\u001b[1;33m:\u001b[0m\u001b[1;33m\u001b[0m\u001b[1;33m\u001b[0m\u001b[0m\n",
      "\u001b[1;32mc:\\users\\madhur bhalkar\\appdata\\local\\programs\\python\\python37\\lib\\site-packages\\keras\\backend\\tensorflow_backend.py\u001b[0m in \u001b[0;36m__call__\u001b[1;34m(self, inputs)\u001b[0m\n\u001b[0;32m   2713\u001b[0m                 \u001b[1;32mreturn\u001b[0m \u001b[0mself\u001b[0m\u001b[1;33m.\u001b[0m\u001b[0m_legacy_call\u001b[0m\u001b[1;33m(\u001b[0m\u001b[0minputs\u001b[0m\u001b[1;33m)\u001b[0m\u001b[1;33m\u001b[0m\u001b[1;33m\u001b[0m\u001b[0m\n\u001b[0;32m   2714\u001b[0m \u001b[1;33m\u001b[0m\u001b[0m\n\u001b[1;32m-> 2715\u001b[1;33m             \u001b[1;32mreturn\u001b[0m \u001b[0mself\u001b[0m\u001b[1;33m.\u001b[0m\u001b[0m_call\u001b[0m\u001b[1;33m(\u001b[0m\u001b[0minputs\u001b[0m\u001b[1;33m)\u001b[0m\u001b[1;33m\u001b[0m\u001b[1;33m\u001b[0m\u001b[0m\n\u001b[0m\u001b[0;32m   2716\u001b[0m         \u001b[1;32melse\u001b[0m\u001b[1;33m:\u001b[0m\u001b[1;33m\u001b[0m\u001b[1;33m\u001b[0m\u001b[0m\n\u001b[0;32m   2717\u001b[0m             \u001b[1;32mif\u001b[0m \u001b[0mpy_any\u001b[0m\u001b[1;33m(\u001b[0m\u001b[0mis_tensor\u001b[0m\u001b[1;33m(\u001b[0m\u001b[0mx\u001b[0m\u001b[1;33m)\u001b[0m \u001b[1;32mfor\u001b[0m \u001b[0mx\u001b[0m \u001b[1;32min\u001b[0m \u001b[0minputs\u001b[0m\u001b[1;33m)\u001b[0m\u001b[1;33m:\u001b[0m\u001b[1;33m\u001b[0m\u001b[1;33m\u001b[0m\u001b[0m\n",
      "\u001b[1;32mc:\\users\\madhur bhalkar\\appdata\\local\\programs\\python\\python37\\lib\\site-packages\\keras\\backend\\tensorflow_backend.py\u001b[0m in \u001b[0;36m_call\u001b[1;34m(self, inputs)\u001b[0m\n\u001b[0;32m   2673\u001b[0m             \u001b[0mfetched\u001b[0m \u001b[1;33m=\u001b[0m \u001b[0mself\u001b[0m\u001b[1;33m.\u001b[0m\u001b[0m_callable_fn\u001b[0m\u001b[1;33m(\u001b[0m\u001b[1;33m*\u001b[0m\u001b[0marray_vals\u001b[0m\u001b[1;33m,\u001b[0m \u001b[0mrun_metadata\u001b[0m\u001b[1;33m=\u001b[0m\u001b[0mself\u001b[0m\u001b[1;33m.\u001b[0m\u001b[0mrun_metadata\u001b[0m\u001b[1;33m)\u001b[0m\u001b[1;33m\u001b[0m\u001b[1;33m\u001b[0m\u001b[0m\n\u001b[0;32m   2674\u001b[0m         \u001b[1;32melse\u001b[0m\u001b[1;33m:\u001b[0m\u001b[1;33m\u001b[0m\u001b[1;33m\u001b[0m\u001b[0m\n\u001b[1;32m-> 2675\u001b[1;33m             \u001b[0mfetched\u001b[0m \u001b[1;33m=\u001b[0m \u001b[0mself\u001b[0m\u001b[1;33m.\u001b[0m\u001b[0m_callable_fn\u001b[0m\u001b[1;33m(\u001b[0m\u001b[1;33m*\u001b[0m\u001b[0marray_vals\u001b[0m\u001b[1;33m)\u001b[0m\u001b[1;33m\u001b[0m\u001b[1;33m\u001b[0m\u001b[0m\n\u001b[0m\u001b[0;32m   2676\u001b[0m         \u001b[1;32mreturn\u001b[0m \u001b[0mfetched\u001b[0m\u001b[1;33m[\u001b[0m\u001b[1;33m:\u001b[0m\u001b[0mlen\u001b[0m\u001b[1;33m(\u001b[0m\u001b[0mself\u001b[0m\u001b[1;33m.\u001b[0m\u001b[0moutputs\u001b[0m\u001b[1;33m)\u001b[0m\u001b[1;33m]\u001b[0m\u001b[1;33m\u001b[0m\u001b[1;33m\u001b[0m\u001b[0m\n\u001b[0;32m   2677\u001b[0m \u001b[1;33m\u001b[0m\u001b[0m\n",
      "\u001b[1;32mc:\\users\\madhur bhalkar\\appdata\\local\\programs\\python\\python37\\lib\\site-packages\\tensorflow\\python\\client\\session.py\u001b[0m in \u001b[0;36m__call__\u001b[1;34m(self, *args, **kwargs)\u001b[0m\n\u001b[0;32m   1437\u001b[0m           ret = tf_session.TF_SessionRunCallable(\n\u001b[0;32m   1438\u001b[0m               \u001b[0mself\u001b[0m\u001b[1;33m.\u001b[0m\u001b[0m_session\u001b[0m\u001b[1;33m.\u001b[0m\u001b[0m_session\u001b[0m\u001b[1;33m,\u001b[0m \u001b[0mself\u001b[0m\u001b[1;33m.\u001b[0m\u001b[0m_handle\u001b[0m\u001b[1;33m,\u001b[0m \u001b[0margs\u001b[0m\u001b[1;33m,\u001b[0m \u001b[0mstatus\u001b[0m\u001b[1;33m,\u001b[0m\u001b[1;33m\u001b[0m\u001b[1;33m\u001b[0m\u001b[0m\n\u001b[1;32m-> 1439\u001b[1;33m               run_metadata_ptr)\n\u001b[0m\u001b[0;32m   1440\u001b[0m         \u001b[1;32mif\u001b[0m \u001b[0mrun_metadata\u001b[0m\u001b[1;33m:\u001b[0m\u001b[1;33m\u001b[0m\u001b[1;33m\u001b[0m\u001b[0m\n\u001b[0;32m   1441\u001b[0m           \u001b[0mproto_data\u001b[0m \u001b[1;33m=\u001b[0m \u001b[0mtf_session\u001b[0m\u001b[1;33m.\u001b[0m\u001b[0mTF_GetBuffer\u001b[0m\u001b[1;33m(\u001b[0m\u001b[0mrun_metadata_ptr\u001b[0m\u001b[1;33m)\u001b[0m\u001b[1;33m\u001b[0m\u001b[1;33m\u001b[0m\u001b[0m\n",
      "\u001b[1;31mKeyboardInterrupt\u001b[0m: "
     ]
    }
   ],
   "source": [
    "model_DNN.fit(X_train_tfidf, Y_train,\n",
    "                              validation_data=(X_test_tfidf, Y_test),\n",
    "                              epochs=50,\n",
    "                              batch_size=128,\n",
    "                              verbose=2)\n",
    "\n",
    "predicted = model_DNN.predict_classes(X_test_tfidf)\n",
    "\n",
    "print(metrics.classification_report(Y_test, predicted))"
   ]
  },
  {
   "cell_type": "code",
   "execution_count": null,
   "metadata": {},
   "outputs": [],
   "source": []
  }
 ],
 "metadata": {
  "kernelspec": {
   "display_name": "Python 3",
   "language": "python",
   "name": "python3"
  },
  "language_info": {
   "codemirror_mode": {
    "name": "ipython",
    "version": 3
   },
   "file_extension": ".py",
   "mimetype": "text/x-python",
   "name": "python",
   "nbconvert_exporter": "python",
   "pygments_lexer": "ipython3",
   "version": "3.7.3"
  }
 },
 "nbformat": 4,
 "nbformat_minor": 2
}
