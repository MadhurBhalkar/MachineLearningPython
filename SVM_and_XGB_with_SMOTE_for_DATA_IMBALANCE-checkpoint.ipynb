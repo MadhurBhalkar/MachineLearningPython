{
 "cells": [
  {
   "cell_type": "code",
   "execution_count": 99,
   "metadata": {},
   "outputs": [],
   "source": [
    "import pandas  as pd\n",
    "import matplotlib.pyplot as plt\n",
    "import numpy as np\n",
    "import sys\n",
    "import os\n",
    "import pandas as pd\n",
    "from sklearn.feature_extraction.text import TfidfVectorizer\n",
    "from sklearn import model_selection\n",
    "from sklearn.pipeline import Pipeline\n",
    "import pickle\n",
    "from sklearn.linear_model import SGDClassifier\n",
    "from xgboost import XGBClassifier\n",
    "from sklearn.model_selection import train_test_split\n",
    "from sklearn.metrics import accuracy_score\n",
    "\n",
    "\n",
    "\n",
    "%matplotlib inline"
   ]
  },
  {
   "cell_type": "code",
   "execution_count": 49,
   "metadata": {},
   "outputs": [
    {
     "data": {
      "text/html": [
       "<div>\n",
       "<style scoped>\n",
       "    .dataframe tbody tr th:only-of-type {\n",
       "        vertical-align: middle;\n",
       "    }\n",
       "\n",
       "    .dataframe tbody tr th {\n",
       "        vertical-align: top;\n",
       "    }\n",
       "\n",
       "    .dataframe thead th {\n",
       "        text-align: right;\n",
       "    }\n",
       "</style>\n",
       "<table border=\"1\" class=\"dataframe\">\n",
       "  <thead>\n",
       "    <tr style=\"text-align: right;\">\n",
       "      <th></th>\n",
       "      <th>Content</th>\n",
       "      <th>Privacy</th>\n",
       "    </tr>\n",
       "  </thead>\n",
       "  <tbody>\n",
       "    <tr>\n",
       "      <th>0</th>\n",
       "      <td>... Do I need to even say it?  Do I?  Well, ...</td>\n",
       "      <td>Not Private</td>\n",
       "    </tr>\n",
       "    <tr>\n",
       "      <th>1</th>\n",
       "      <td>Going To See Harry Sunday Happiness</td>\n",
       "      <td>Private</td>\n",
       "    </tr>\n",
       "    <tr>\n",
       "      <th>2</th>\n",
       "      <td>this motha fucka stay solid. Foh with your n...</td>\n",
       "      <td>Not Private</td>\n",
       "    </tr>\n",
       "    <tr>\n",
       "      <th>3</th>\n",
       "      <td>Why Twitter will soon become obsolete? http:...</td>\n",
       "      <td>Not Private</td>\n",
       "    </tr>\n",
       "    <tr>\n",
       "      <th>4</th>\n",
       "      <td>- Like I said, my back still fucking hurts an...</td>\n",
       "      <td>Private</td>\n",
       "    </tr>\n",
       "  </tbody>\n",
       "</table>\n",
       "</div>"
      ],
      "text/plain": [
       "                                             Content      Privacy\n",
       "0    ... Do I need to even say it?  Do I?  Well, ...  Not Private\n",
       "1               Going To See Harry Sunday Happiness       Private\n",
       "2    this motha fucka stay solid. Foh with your n...  Not Private\n",
       "3    Why Twitter will soon become obsolete? http:...  Not Private\n",
       "4   - Like I said, my back still fucking hurts an...      Private"
      ]
     },
     "execution_count": 49,
     "metadata": {},
     "output_type": "execute_result"
    }
   ],
   "source": [
    "dfhk=pd.read_csv(\"C:/Users/Madhur Bhalkar/Desktop/Everything Privacy/twitter_data_processed.csv\")\n",
    "dfhk.head(5)"
   ]
  },
  {
   "cell_type": "code",
   "execution_count": 14,
   "metadata": {},
   "outputs": [
    {
     "data": {
      "text/plain": [
       "1    4902\n",
       "2    1121\n",
       "Name: Privacy, dtype: int64"
      ]
     },
     "execution_count": 14,
     "metadata": {},
     "output_type": "execute_result"
    },
    {
     "data": {
      "image/png": "[encoded data removed]",
      "text/plain": [
       "<Figure size 432x288 with 1 Axes>"
      ]
     },
     "metadata": {
      "needs_background": "light"
     },
     "output_type": "display_data"
    }
   ],
   "source": [
    "pd.value_counts(df['Privacy']).plot.bar()\n",
    "plt.title('Fraud class histogram')\n",
    "plt.xlabel('Privacy')\n",
    "plt.ylabel('Frequency')\n",
    "df['Privacy'].value_counts()"
   ]
  },
  {
   "cell_type": "code",
   "execution_count": 48,
   "metadata": {},
   "outputs": [],
   "source": [
    "def preProcessingText(csv_data,mode):\n",
    "    tv=TfidfVectorizer(stop_words='english')\n",
    "    h2=csv_data['Content']\n",
    "    h2=h2.replace(r'#([^\\s]+)', r'\\1', regex=True)\n",
    "    h2=h2.replace('\\'\"',regex=True)\n",
    "    content=tv.fit_transform(h2)\n",
    "    pickle.dump(tv, open(\"vect.pkl\", 'wb'))\n",
    "    print(\"Vectorizer File dumped to {}\".format(os.path.join(os.getcwd(),'vect.pkl')))\n",
    "\n",
    "\n",
    "    \n",
    "    if(mode=='Train'):\n",
    "        # Modify Labels\n",
    "        labels = csv_data['Privacy'].astype('category').cat.categories.tolist()\n",
    "        Label_mapping = {'Privacy' : {k: v for k,v in zip(labels,list(range(1,len(labels)+1)))}}\n",
    "         \n",
    "        #Replacing the Strings with Numbers to feed as a input to our model\n",
    "        \n",
    "        \n",
    "        csv_data.replace(Label_mapping, inplace=True)\n",
    "        return content,csv_data.iloc[:,-1]\n",
    "    elif(mode=='Predict'):\n",
    "        return content,None\n",
    "\n"
   ]
  },
  {
   "cell_type": "code",
   "execution_count": 50,
   "metadata": {},
   "outputs": [
    {
     "name": "stdout",
     "output_type": "stream",
     "text": [
      "Vectorizer File dumped to C:\\Users\\Madhur Bhalkar\\vect.pkl\n"
     ]
    }
   ],
   "source": [
    "X,Y=preProcessingText(dfhk,'Train')"
   ]
  },
  {
   "cell_type": "code",
   "execution_count": 66,
   "metadata": {},
   "outputs": [
    {
     "name": "stdout",
     "output_type": "stream",
     "text": [
      "Number transactions X_train dataset:  (4818, 15028)\n",
      "Number transactions Y_train dataset:  (4818,)\n",
      "Number transactions X_test dataset:  (1205, 15028)\n",
      "Number transactions Y_test dataset:  (1205,)\n"
     ]
    }
   ],
   "source": [
    "from imblearn.over_sampling import SMOTE\n",
    "\n",
    "from sklearn.model_selection import train_test_split\n",
    "\n",
    "X_train, X_test, Y_train, Y_test = train_test_split(X, Y, test_size=0.2, random_state=0)\n",
    "\n",
    "print(\"Number transactions X_train dataset: \", X_train.shape)\n",
    "print(\"Number transactions Y_train dataset: \", Y_train.shape)\n",
    "print(\"Number transactions X_test dataset: \", X_test.shape)\n",
    "print(\"Number transactions Y_test dataset: \", Y_test.shape)\n"
   ]
  },
  {
   "cell_type": "code",
   "execution_count": 54,
   "metadata": {
    "scrolled": true
   },
   "outputs": [
    {
     "name": "stdout",
     "output_type": "stream",
     "text": [
      "Before OverSampling, counts of label '1': 3900\n",
      "Before OverSampling, counts of label '2': 918 \n",
      "\n",
      "After OverSampling, the shape of train_X: (7800, 15028)\n",
      "After OverSampling, the shape of train_y: (7800,) \n",
      "\n",
      "After OverSampling, counts of label '1': 3900\n",
      "After OverSampling, counts of label '2': 3900\n"
     ]
    }
   ],
   "source": [
    "print(\"Before OverSampling, counts of label '1': {}\".format(sum(Y_train==1)))\n",
    "print(\"Before OverSampling, counts of label '2': {} \\n\".format(sum(Y_train==2)))\n",
    "\n",
    "sm = SMOTE(random_state=2)\n",
    "X_train_res, Y_train_res = sm.fit_sample(X_train, Y_train.ravel())\n",
    "\n",
    "print('After OverSampling, the shape of train_X: {}'.format(X_train_res.shape))\n",
    "print('After OverSampling, the shape of train_y: {} \\n'.format(Y_train_res.shape))\n",
    "\n",
    "print(\"After OverSampling, counts of label '1': {}\".format(sum(Y_train_res==1)))\n",
    "print(\"After OverSampling, counts of label '2': {}\".format(sum(Y_train_res==2)))"
   ]
  },
  {
   "cell_type": "code",
   "execution_count": 101,
   "metadata": {},
   "outputs": [],
   "source": [
    "def createAndFitModelSVM(X_train, X_test, Y_train, Y_test):\n",
    "    model = Pipeline([('clf-svm', SGDClassifier(loss='hinge', penalty='l2',alpha=1e-3,random_state=42))])\n",
    "    model.fit(X_train, Y_train)\n",
    "    predicted = model.predict(X_test)\n",
    "\n",
    "    print(\"Accuracy of the Model is {} %\".format(round(model.score(X_test, Y_test)*100,2)))\n",
    "    print(\"Dumping the file\")\n",
    "    filename = 'SVM_Model.sav'\n",
    "    pickle.dump(model, open(filename, 'wb'))\n",
    "    print(\"File dumped to {}\".format(os.path.join(os.getcwd(),'SVM_Model.sav')))\n",
    "    \n"
   ]
  },
  {
   "cell_type": "code",
   "execution_count": 102,
   "metadata": {},
   "outputs": [
    {
     "name": "stdout",
     "output_type": "stream",
     "text": [
      "Accuracy of the Model is 75.6 %\n",
      "Dumping the file\n",
      "File dumped to C:\\Users\\Madhur Bhalkar\\SVM_Model.sav\n"
     ]
    }
   ],
   "source": [
    "createAndFitModelSVM(X_train_res, X_test, Y_train_res, Y_test)"
   ]
  },
  {
   "cell_type": "code",
   "execution_count": 103,
   "metadata": {},
   "outputs": [],
   "source": [
    "def createAndFitModelXGB(X_Train, X_Test, Y_Train, Y_Test):\n",
    "    model = XGBClassifier()\n",
    "    model.fit(X_Train, Y_Train)\n",
    "    predicted = model.predict(X_Test)\n",
    "\n",
    "    print(\"Accuracy of the Model is {} %\".format(round(model.score(X_Test, Y_Test)*100,2)))\n",
    "    print(\"Dumping the file\")\n",
    "    filename = 'XGB_Model.sav'\n",
    "    pickle.dump(model, open(filename, 'wb'))\n",
    "    print(\"File dumped to {}\".format(os.path.join(os.getcwd(),'XGB_Model.sav')))\n",
    "    \n"
   ]
  },
  {
   "cell_type": "code",
   "execution_count": 104,
   "metadata": {},
   "outputs": [
    {
     "name": "stdout",
     "output_type": "stream",
     "text": [
      "Accuracy of the Model is 80.91 %\n",
      "Dumping the file\n",
      "File dumped to C:\\Users\\Madhur Bhalkar\\XGB_Model.sav\n"
     ]
    }
   ],
   "source": [
    "createAndFitModelXGB(X_train_res, X_test, Y_train_res, Y_test)"
   ]
  },
  {
   "cell_type": "code",
   "execution_count": null,
   "metadata": {},
   "outputs": [],
   "source": [
    "import"
   ]
  }
 ],
 "metadata": {
  "kernelspec": {
   "display_name": "Python 3",
   "language": "python",
   "name": "python3"
  },
  "language_info": {
   "codemirror_mode": {
    "name": "ipython",
    "version": 3
   },
   "file_extension": ".py",
   "mimetype": "text/x-python",
   "name": "python",
   "nbconvert_exporter": "python",
   "pygments_lexer": "ipython3",
   "version": "3.7.3"
  }
 },
 "nbformat": 4,
 "nbformat_minor": 2
}
